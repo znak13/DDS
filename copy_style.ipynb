{
 "cells": [
  {
   "cell_type": "code",
   "execution_count": 4,
   "metadata": {
    "collapsed": true
   },
   "outputs": [],
   "source": [
    "import openpyxl\n",
    "\n",
    "from openpyxl import load_workbook\n",
    "from openpyxl import Workbook\n",
    "\n",
    "from openpyxl import styles\n",
    "from copy import copy\n"
   ]
  },
  {
   "cell_type": "code",
   "execution_count": 44,
   "outputs": [],
   "source": [
    "read_from = load_workbook('Проба01.xlsx')\n",
    "read_sheet = read_from.active\n",
    "\n",
    "write_to = Workbook()\n",
    "write_sheet = write_to.active"
   ],
   "metadata": {
    "collapsed": false,
    "pycharm": {
     "name": "#%%\n"
    }
   }
  },
  {
   "cell_type": "code",
   "execution_count": 2,
   "outputs": [],
   "source": [],
   "metadata": {
    "collapsed": false,
    "pycharm": {
     "name": "#%%\n"
    }
   }
  },
  {
   "cell_type": "code",
   "execution_count": 46,
   "outputs": [
    {
     "ename": "KeyboardInterrupt",
     "evalue": "",
     "output_type": "error",
     "traceback": [
      "\u001B[1;31m---------------------------------------------------------------------------\u001B[0m",
      "\u001B[1;31mKeyboardInterrupt\u001B[0m                         Traceback (most recent call last)",
      "\u001B[1;32m<ipython-input-46-4f59b0490d2c>\u001B[0m in \u001B[0;36m<module>\u001B[1;34m\u001B[0m\n\u001B[0;32m     58\u001B[0m                 \u001B[0mnew_cell\u001B[0m\u001B[1;33m.\u001B[0m\u001B[0malignment\u001B[0m \u001B[1;33m=\u001B[0m \u001B[0mcopy\u001B[0m \u001B[1;33m(\u001B[0m\u001B[0mcell\u001B[0m\u001B[1;33m.\u001B[0m\u001B[0malignment\u001B[0m\u001B[1;33m)\u001B[0m\u001B[1;33m\u001B[0m\u001B[1;33m\u001B[0m\u001B[0m\n\u001B[0;32m     59\u001B[0m \u001B[1;33m\u001B[0m\u001B[0m\n\u001B[1;32m---> 60\u001B[1;33m \u001B[0mcopy_cells\u001B[0m\u001B[1;33m(\u001B[0m\u001B[0mread_sheet\u001B[0m\u001B[1;33m,\u001B[0m \u001B[0mwrite_sheet\u001B[0m\u001B[1;33m,\u001B[0m \u001B[0mrow_begin\u001B[0m\u001B[1;33m=\u001B[0m\u001B[1;36m4\u001B[0m\u001B[1;33m,\u001B[0m \u001B[0mcol_new\u001B[0m\u001B[1;33m=\u001B[0m\u001B[1;32mTrue\u001B[0m\u001B[1;33m)\u001B[0m\u001B[1;33m\u001B[0m\u001B[1;33m\u001B[0m\u001B[0m\n\u001B[0m\u001B[0;32m     61\u001B[0m \u001B[0mwrite_to\u001B[0m\u001B[1;33m.\u001B[0m\u001B[0msave\u001B[0m\u001B[1;33m(\u001B[0m\u001B[1;34m'Проба01_1.xlsx'\u001B[0m\u001B[1;33m)\u001B[0m\u001B[1;33m\u001B[0m\u001B[1;33m\u001B[0m\u001B[0m\n\u001B[0;32m     62\u001B[0m \u001B[1;33m\u001B[0m\u001B[0m\n",
      "\u001B[1;32m<ipython-input-46-4f59b0490d2c>\u001B[0m in \u001B[0;36mcopy_cells\u001B[1;34m(read_sheet, write_sheet, row_begin, col_new)\u001B[0m\n\u001B[0;32m     40\u001B[0m \u001B[1;33m\u001B[0m\u001B[0m\n\u001B[0;32m     41\u001B[0m             \u001B[1;31m# Копируем ширину и высоту ячейки\u001B[0m\u001B[1;33m\u001B[0m\u001B[1;33m\u001B[0m\u001B[1;33m\u001B[0m\u001B[0m\n\u001B[1;32m---> 42\u001B[1;33m             \u001B[1;32mtry\u001B[0m\u001B[1;33m:\u001B[0m\u001B[1;33m\u001B[0m\u001B[1;33m\u001B[0m\u001B[0m\n\u001B[0m\u001B[0;32m     43\u001B[0m                 \u001B[0mwrite_sheet\u001B[0m\u001B[1;33m.\u001B[0m\u001B[0mcolumn_dimensions\u001B[0m\u001B[1;33m[\u001B[0m\u001B[0mnew_cell\u001B[0m\u001B[1;33m.\u001B[0m\u001B[0mcolumn_letter\u001B[0m\u001B[1;33m]\u001B[0m \u001B[1;33m=\u001B[0m\u001B[0;31m \u001B[0m\u001B[0;31m\\\u001B[0m\u001B[1;33m\u001B[0m\u001B[1;33m\u001B[0m\u001B[0m\n\u001B[0;32m     44\u001B[0m                     \u001B[0mcopy\u001B[0m \u001B[1;33m(\u001B[0m\u001B[0mread_sheet\u001B[0m\u001B[1;33m.\u001B[0m\u001B[0mcolumn_dimensions\u001B[0m\u001B[1;33m[\u001B[0m\u001B[0mcell\u001B[0m\u001B[1;33m.\u001B[0m\u001B[0mcolumn_letter\u001B[0m\u001B[1;33m]\u001B[0m\u001B[1;33m)\u001B[0m\u001B[1;33m\u001B[0m\u001B[1;33m\u001B[0m\u001B[0m\n",
      "\u001B[1;32m<ipython-input-46-4f59b0490d2c>\u001B[0m in \u001B[0;36mcopy_cells\u001B[1;34m(read_sheet, write_sheet, row_begin, col_new)\u001B[0m\n\u001B[0;32m     40\u001B[0m \u001B[1;33m\u001B[0m\u001B[0m\n\u001B[0;32m     41\u001B[0m             \u001B[1;31m# Копируем ширину и высоту ячейки\u001B[0m\u001B[1;33m\u001B[0m\u001B[1;33m\u001B[0m\u001B[1;33m\u001B[0m\u001B[0m\n\u001B[1;32m---> 42\u001B[1;33m             \u001B[1;32mtry\u001B[0m\u001B[1;33m:\u001B[0m\u001B[1;33m\u001B[0m\u001B[1;33m\u001B[0m\u001B[0m\n\u001B[0m\u001B[0;32m     43\u001B[0m                 \u001B[0mwrite_sheet\u001B[0m\u001B[1;33m.\u001B[0m\u001B[0mcolumn_dimensions\u001B[0m\u001B[1;33m[\u001B[0m\u001B[0mnew_cell\u001B[0m\u001B[1;33m.\u001B[0m\u001B[0mcolumn_letter\u001B[0m\u001B[1;33m]\u001B[0m \u001B[1;33m=\u001B[0m\u001B[0;31m \u001B[0m\u001B[0;31m\\\u001B[0m\u001B[1;33m\u001B[0m\u001B[1;33m\u001B[0m\u001B[0m\n\u001B[0;32m     44\u001B[0m                     \u001B[0mcopy\u001B[0m \u001B[1;33m(\u001B[0m\u001B[0mread_sheet\u001B[0m\u001B[1;33m.\u001B[0m\u001B[0mcolumn_dimensions\u001B[0m\u001B[1;33m[\u001B[0m\u001B[0mcell\u001B[0m\u001B[1;33m.\u001B[0m\u001B[0mcolumn_letter\u001B[0m\u001B[1;33m]\u001B[0m\u001B[1;33m)\u001B[0m\u001B[1;33m\u001B[0m\u001B[1;33m\u001B[0m\u001B[0m\n",
      "\u001B[1;32m_pydevd_bundle\\pydevd_cython_win32_38_64.pyx\u001B[0m in \u001B[0;36m_pydevd_bundle.pydevd_cython_win32_38_64.SafeCallWrapper.__call__\u001B[1;34m()\u001B[0m\n",
      "\u001B[1;32m_pydevd_bundle\\pydevd_cython_win32_38_64.pyx\u001B[0m in \u001B[0;36m_pydevd_bundle.pydevd_cython_win32_38_64.PyDBFrame.trace_dispatch\u001B[1;34m()\u001B[0m\n",
      "\u001B[1;32m_pydevd_bundle\\pydevd_cython_win32_38_64.pyx\u001B[0m in \u001B[0;36m_pydevd_bundle.pydevd_cython_win32_38_64.PyDBFrame.trace_dispatch\u001B[1;34m()\u001B[0m\n",
      "\u001B[1;32m_pydevd_bundle\\pydevd_cython_win32_38_64.pyx\u001B[0m in \u001B[0;36m_pydevd_bundle.pydevd_cython_win32_38_64.PyDBFrame.trace_dispatch\u001B[1;34m()\u001B[0m\n",
      "\u001B[1;32m_pydevd_bundle\\pydevd_cython_win32_38_64.pyx\u001B[0m in \u001B[0;36m_pydevd_bundle.pydevd_cython_win32_38_64.PyDBFrame.do_wait_suspend\u001B[1;34m()\u001B[0m\n",
      "\u001B[1;32mC:\\Program Files\\JetBrains\\PyCharm2020\\plugins\\python\\helpers\\pydev\\pydevd.py\u001B[0m in \u001B[0;36mdo_wait_suspend\u001B[1;34m(self, thread, frame, event, arg, send_suspend_message, is_unhandled_exception)\u001B[0m\n\u001B[0;32m   1101\u001B[0m \u001B[1;33m\u001B[0m\u001B[0m\n\u001B[0;32m   1102\u001B[0m         \u001B[1;32mwith\u001B[0m \u001B[0mself\u001B[0m\u001B[1;33m.\u001B[0m\u001B[0m_threads_suspended_single_notification\u001B[0m\u001B[1;33m.\u001B[0m\u001B[0mnotify_thread_suspended\u001B[0m\u001B[1;33m(\u001B[0m\u001B[0mthread_id\u001B[0m\u001B[1;33m,\u001B[0m \u001B[0mstop_reason\u001B[0m\u001B[1;33m)\u001B[0m\u001B[1;33m:\u001B[0m\u001B[1;33m\u001B[0m\u001B[1;33m\u001B[0m\u001B[0m\n\u001B[1;32m-> 1103\u001B[1;33m             \u001B[0mself\u001B[0m\u001B[1;33m.\u001B[0m\u001B[0m_do_wait_suspend\u001B[0m\u001B[1;33m(\u001B[0m\u001B[0mthread\u001B[0m\u001B[1;33m,\u001B[0m \u001B[0mframe\u001B[0m\u001B[1;33m,\u001B[0m \u001B[0mevent\u001B[0m\u001B[1;33m,\u001B[0m \u001B[0marg\u001B[0m\u001B[1;33m,\u001B[0m \u001B[0msuspend_type\u001B[0m\u001B[1;33m,\u001B[0m \u001B[0mfrom_this_thread\u001B[0m\u001B[1;33m)\u001B[0m\u001B[1;33m\u001B[0m\u001B[1;33m\u001B[0m\u001B[0m\n\u001B[0m\u001B[0;32m   1104\u001B[0m \u001B[1;33m\u001B[0m\u001B[0m\n\u001B[0;32m   1105\u001B[0m     \u001B[1;32mdef\u001B[0m \u001B[0m_do_wait_suspend\u001B[0m\u001B[1;33m(\u001B[0m\u001B[0mself\u001B[0m\u001B[1;33m,\u001B[0m \u001B[0mthread\u001B[0m\u001B[1;33m,\u001B[0m \u001B[0mframe\u001B[0m\u001B[1;33m,\u001B[0m \u001B[0mevent\u001B[0m\u001B[1;33m,\u001B[0m \u001B[0marg\u001B[0m\u001B[1;33m,\u001B[0m \u001B[0msuspend_type\u001B[0m\u001B[1;33m,\u001B[0m \u001B[0mfrom_this_thread\u001B[0m\u001B[1;33m)\u001B[0m\u001B[1;33m:\u001B[0m\u001B[1;33m\u001B[0m\u001B[1;33m\u001B[0m\u001B[0m\n",
      "\u001B[1;32mC:\\Program Files\\JetBrains\\PyCharm2020\\plugins\\python\\helpers\\pydev\\pydevd.py\u001B[0m in \u001B[0;36m_do_wait_suspend\u001B[1;34m(self, thread, frame, event, arg, suspend_type, from_this_thread)\u001B[0m\n\u001B[0;32m   1116\u001B[0m \u001B[1;33m\u001B[0m\u001B[0m\n\u001B[0;32m   1117\u001B[0m                 \u001B[0mself\u001B[0m\u001B[1;33m.\u001B[0m\u001B[0mprocess_internal_commands\u001B[0m\u001B[1;33m(\u001B[0m\u001B[1;33m)\u001B[0m\u001B[1;33m\u001B[0m\u001B[1;33m\u001B[0m\u001B[0m\n\u001B[1;32m-> 1118\u001B[1;33m                 \u001B[0mtime\u001B[0m\u001B[1;33m.\u001B[0m\u001B[0msleep\u001B[0m\u001B[1;33m(\u001B[0m\u001B[1;36m0.01\u001B[0m\u001B[1;33m)\u001B[0m\u001B[1;33m\u001B[0m\u001B[1;33m\u001B[0m\u001B[0m\n\u001B[0m\u001B[0;32m   1119\u001B[0m \u001B[1;33m\u001B[0m\u001B[0m\n\u001B[0;32m   1120\u001B[0m         \u001B[0mself\u001B[0m\u001B[1;33m.\u001B[0m\u001B[0mcancel_async_evaluation\u001B[0m\u001B[1;33m(\u001B[0m\u001B[0mget_current_thread_id\u001B[0m\u001B[1;33m(\u001B[0m\u001B[0mthread\u001B[0m\u001B[1;33m)\u001B[0m\u001B[1;33m,\u001B[0m \u001B[0mstr\u001B[0m\u001B[1;33m(\u001B[0m\u001B[0mid\u001B[0m\u001B[1;33m(\u001B[0m\u001B[0mframe\u001B[0m\u001B[1;33m)\u001B[0m\u001B[1;33m)\u001B[0m\u001B[1;33m)\u001B[0m\u001B[1;33m\u001B[0m\u001B[1;33m\u001B[0m\u001B[0m\n",
      "\u001B[1;31mKeyboardInterrupt\u001B[0m: "
     ]
    }
   ],
   "source": [
    "def copy_cells(read_sheet, write_sheet, row_begin=None, col_new=False):\n",
    "\n",
    "    # если не задана начальная строка, то копируем, начиная с первой строки\n",
    "    if not row_begin:\n",
    "        row_begin = 1\n",
    "\n",
    "    # координаты первой ячейки новой таблицы\n",
    "    if col_new:\n",
    "        col_new = read_sheet.max_column + 2\n",
    "        row_new = row_begin\n",
    "    else:\n",
    "        col_new = 1\n",
    "\n",
    "    # Список объединеных ячеек\n",
    "    merged_cells = read_sheet.merged_cells.ranges\n",
    "\n",
    "    # Копируем объединенные ячейки\n",
    "    for m_cell in merged_cells:\n",
    "        # m_cell_beg = m_cell.coord.split(\":\")[0]\n",
    "        # m_cell_end = m_cell.coord.split(\":\")[1]\n",
    "\n",
    "        max_col = m_cell.max_col + (col_new - 1)\n",
    "        max_row = m_cell.max_row\n",
    "        min_col = m_cell.min_col + (col_new - 1)\n",
    "        min_row = m_cell.min_row\n",
    "\n",
    "        # write_sheet.merge_cells(m_cell.coord)\n",
    "        write_sheet.merge_cells(start_column=min_col, start_row=min_row,\n",
    "                                end_column=max_col, end_row=max_row)\n",
    "\n",
    "    # копируем значения ячеек\n",
    "    for n, row in enumerate(read_sheet.rows):\n",
    "        # начинаем копировать значения только со строки \"row_begin\"\n",
    "        if n+1 < row_begin:\n",
    "            continue\n",
    "        for cell in row:\n",
    "            new_cell = write_sheet.cell(row=cell.row,\n",
    "                       column=(cell.column + (col_new - 1)), value= cell.value)\n",
    "\n",
    "            # Копируем ширину и высоту ячейки\n",
    "            try:\n",
    "                write_sheet.column_dimensions[new_cell.column_letter] = \\\n",
    "                    copy (read_sheet.column_dimensions[cell.column_letter])\n",
    "                write_sheet.row_dimensions[new_cell.row] = \\\n",
    "                    copy (read_sheet.row_dimensions[cell.row])\n",
    "            # исключаем объединенные ячейки\n",
    "            except AttributeError:  #'MergedCell' object has no attribute 'column_letter'\n",
    "                pass\n",
    "\n",
    "            # копируем формат ячейки\n",
    "            if cell.has_style:\n",
    "                new_cell.font = copy (cell.font)\n",
    "                new_cell.border = copy (cell.border)\n",
    "                new_cell.fill = copy (cell.fill)\n",
    "                new_cell.number_format = copy (cell.number_format)\n",
    "                new_cell.protection = copy (cell.protection)\n",
    "                new_cell.alignment = copy (cell.alignment)\n",
    "\n",
    "copy_cells(read_sheet, write_sheet, row_begin=4, col_new=True)\n",
    "write_to.save('Проба01_1.xlsx')"
   ],
   "metadata": {
    "collapsed": false,
    "pycharm": {
     "name": "#%%\n"
    }
   }
  },
  {
   "cell_type": "code",
   "execution_count": 64,
   "outputs": [],
   "source": [
    "col_new = 9\n",
    "for row in read_sheet.rows:\n",
    "    for cell in row:\n",
    "        new_cell = write_sheet.cell(row=cell.row,\n",
    "                                    column=(cell.column + (col_new - 1)))\n",
    "        # Копируем ширину и высоту ячейки\n",
    "        write_sheet.column_dimensions[new_cell.column_letter] = \\\n",
    "            copy (read_sheet.column_dimensions[cell.column_letter].width)\n",
    "\n",
    "        write_sheet.row_dimensions[new_cell.row] = \\\n",
    "            copy(read_sheet.row_dimensions[cell.row])\n",
    "\n",
    "    break\n"
   ],
   "metadata": {
    "collapsed": false,
    "pycharm": {
     "name": "#%%\n"
    }
   }
  },
  {
   "cell_type": "code",
   "execution_count": 65,
   "outputs": [],
   "source": [
    "cw_1 = write_sheet.row_dimensions[new_cell.row]"
   ],
   "metadata": {
    "collapsed": false,
    "pycharm": {
     "name": "#%%\n"
    }
   }
  },
  {
   "cell_type": "code",
   "execution_count": 32,
   "outputs": [],
   "source": [
    "qq = read_sheet.rows\n",
    "for q in qq:\n",
    "    z = q"
   ],
   "metadata": {
    "collapsed": false,
    "pycharm": {
     "name": "#%%\n"
    }
   }
  },
  {
   "cell_type": "code",
   "execution_count": 14,
   "outputs": [
    {
     "name": "stdout",
     "output_type": "stream",
     "text": [
      "MergedCell\n",
      "None\n"
     ]
    },
    {
     "data": {
      "text/plain": "True"
     },
     "execution_count": 14,
     "metadata": {},
     "output_type": "execute_result"
    }
   ],
   "source": [
    "h = read_sheet['A5']\n",
    "print (type (h).__name__) # == \"MergedCell\" or \"Cell\"\n",
    "print (h.value)\n",
    "type (h).__name__ == 'MergedCell'"
   ],
   "metadata": {
    "collapsed": false,
    "pycharm": {
     "name": "#%%\n"
    }
   }
  },
  {
   "cell_type": "code",
   "execution_count": 33,
   "outputs": [
    {
     "ename": "TypeError",
     "evalue": "'list' object is not callable",
     "output_type": "error",
     "traceback": [
      "\u001B[1;31m---------------------------------------------------------------------------\u001B[0m",
      "\u001B[1;31mTypeError\u001B[0m                                 Traceback (most recent call last)",
      "\u001B[1;32m<ipython-input-33-a918faf384f0>\u001B[0m in \u001B[0;36m<module>\u001B[1;34m\u001B[0m\n\u001B[1;32m----> 1\u001B[1;33m \u001B[0mmerged_cells\u001B[0m \u001B[1;33m=\u001B[0m \u001B[0mread_sheet\u001B[0m\u001B[1;33m.\u001B[0m\u001B[0mmerged_cells\u001B[0m\u001B[1;33m.\u001B[0m\u001B[0mranges\u001B[0m\u001B[1;33m(\u001B[0m\u001B[1;34m'D'\u001B[0m\u001B[1;33m)\u001B[0m\u001B[1;33m\u001B[0m\u001B[1;33m\u001B[0m\u001B[0m\n\u001B[0m\u001B[0;32m      2\u001B[0m \u001B[0mmerged_cells\u001B[0m\u001B[1;33m\u001B[0m\u001B[1;33m\u001B[0m\u001B[0m\n",
      "\u001B[1;31mTypeError\u001B[0m: 'list' object is not callable"
     ]
    }
   ],
   "source": [
    "merged_cells = read_sheet.merged_cells.ranges\n",
    "merged_cells"
   ],
   "metadata": {
    "collapsed": false,
    "pycharm": {
     "name": "#%%\n"
    }
   }
  },
  {
   "cell_type": "code",
   "execution_count": 15,
   "outputs": [
    {
     "name": "stdout",
     "output_type": "stream",
     "text": [
      "0\n",
      "1\n",
      "2\n"
     ]
    }
   ],
   "source": [
    "w = [5,6,7]\n",
    "for n,v in enumerate(w):\n",
    "    print (n)\n"
   ],
   "metadata": {
    "collapsed": false,
    "pycharm": {
     "name": "#%%\n"
    }
   }
  },
  {
   "cell_type": "code",
   "execution_count": 47,
   "outputs": [
    {
     "ename": "TypeError",
     "evalue": "'MultiCellRange' object is not callable",
     "output_type": "error",
     "traceback": [
      "\u001B[1;31m---------------------------------------------------------------------------\u001B[0m",
      "\u001B[1;31mTypeError\u001B[0m                                 Traceback (most recent call last)",
      "\u001B[1;32m<ipython-input-47-903cd9e95f7a>\u001B[0m in \u001B[0;36m<module>\u001B[1;34m\u001B[0m\n\u001B[1;32m----> 1\u001B[1;33m \u001B[0mread_sheet\u001B[0m\u001B[1;33m.\u001B[0m\u001B[0mmerged_cells\u001B[0m\u001B[1;33m(\u001B[0m\u001B[0mstart_row\u001B[0m\u001B[1;33m=\u001B[0m\u001B[1;36m1\u001B[0m\u001B[1;33m,\u001B[0m \u001B[0mstart_column\u001B[0m\u001B[1;33m=\u001B[0m\u001B[1;34m'A'\u001B[0m\u001B[1;33m,\u001B[0m \u001B[0mend_row\u001B[0m\u001B[1;33m=\u001B[0m\u001B[1;36m8\u001B[0m\u001B[1;33m,\u001B[0m \u001B[0mend_column\u001B[0m\u001B[1;33m=\u001B[0m\u001B[1;34m'B'\u001B[0m\u001B[1;33m)\u001B[0m\u001B[1;33m\u001B[0m\u001B[1;33m\u001B[0m\u001B[0m\n\u001B[0m\u001B[0;32m      2\u001B[0m \u001B[1;33m\u001B[0m\u001B[0m\n",
      "\u001B[1;31mTypeError\u001B[0m: 'MultiCellRange' object is not callable"
     ]
    }
   ],
   "source": [
    "read_sheet.merged_cells.ranges(start_row=1, start_column='A', end_row=8, end_column='B')"
   ],
   "metadata": {
    "collapsed": false,
    "pycharm": {
     "name": "#%%\n"
    }
   }
  },
  {
   "cell_type": "code",
   "execution_count": 53,
   "outputs": [],
   "source": [
    "q = read_sheet.merged_cells\n",
    "qq = read_sheet.merged_cells.ranges"
   ],
   "metadata": {
    "collapsed": false,
    "pycharm": {
     "name": "#%%\n"
    }
   }
  },
  {
   "cell_type": "code",
   "execution_count": 17,
   "outputs": [],
   "source": [
    "# Примеры\n",
    "font_color = styles.Color('00FF0000')\n",
    "font = styles.Font(bold=True, color=font_color)\n",
    "side = styles.Side(style=styles.borders.BORDER_THIN)\n",
    "border = styles.Border(top=side, right=side, bottom=side, left=side)\n",
    "alignment = styles.Alignment(horizontal='center', vertical='top')\n",
    "fill_color = styles.Color(rgb='006666FF', tint=0.3)\n",
    "fill = styles.PatternFill(patternType='solid', fgColor=fill_color)"
   ],
   "metadata": {
    "collapsed": false,
    "pycharm": {
     "name": "#%%\n"
    }
   }
  },
  {
   "cell_type": "code",
   "execution_count": 71,
   "outputs": [
    {
     "name": "stdout",
     "output_type": "stream",
     "text": [
      "xcxcv\n"
     ]
    }
   ],
   "source": [
    "d = [11, 22]\n",
    "len (d)\n",
    "for i in d[1:]:\n",
    "    print ('xcxcv')"
   ],
   "metadata": {
    "collapsed": false,
    "pycharm": {
     "name": "#%%\n"
    }
   }
  }
 ],
 "metadata": {
  "kernelspec": {
   "display_name": "Python 3",
   "language": "python",
   "name": "python3"
  },
  "language_info": {
   "codemirror_mode": {
    "name": "ipython",
    "version": 2
   },
   "file_extension": ".py",
   "mimetype": "text/x-python",
   "name": "python",
   "nbconvert_exporter": "python",
   "pygments_lexer": "ipython2",
   "version": "2.7.6"
  }
 },
 "nbformat": 4,
 "nbformat_minor": 0
}